{
  "nbformat": 4,
  "nbformat_minor": 0,
  "metadata": {
    "colab": {
      "provenance": [],
      "authorship_tag": "ABX9TyPXyiad7Nx+fckWDv8GIKLG",
      "include_colab_link": true
    },
    "kernelspec": {
      "name": "python3",
      "display_name": "Python 3"
    },
    "language_info": {
      "name": "python"
    }
  },
  "cells": [
    {
      "cell_type": "markdown",
      "metadata": {
        "id": "view-in-github",
        "colab_type": "text"
      },
      "source": [
        "<a href=\"https://colab.research.google.com/github/amaillis94/project2_nyc_classification/blob/main/NYC_analysis_amaillis.ipynb\" target=\"_parent\"><img src=\"https://colab.research.google.com/assets/colab-badge.svg\" alt=\"Open In Colab\"/></a>"
      ]
    },
    {
      "cell_type": "code",
      "source": [
        "import pandas as pd\n",
        "import numpy as np\n",
        "import matplotlib.pyplot as plt\n",
        "import seaborn as sea\n",
        "from dotenv import load_dotenv\n",
        "import os"
      ],
      "metadata": {
        "id": "gpAQDpHAvXOW"
      },
      "execution_count": null,
      "outputs": []
    },
    {
      "cell_type": "code",
      "source": [
        "load_dotenv(\"/content/.env\")\n",
        "# Confirming .env\n",
        "print(\"User:\", os.getenv(\"DB_USER\"))"
      ],
      "metadata": {
        "id": "YSsw9_dFptQg"
      },
      "execution_count": null,
      "outputs": []
    },
    {
      "cell_type": "code",
      "source": [
        "#Connect to Aiven to source data\n",
        "from sqlalchemy import create_engine\n",
        "\n",
        "\n",
        "engine = create_engine(\n",
        "    f\"postgresql+psycopg2://{os.getenv('DB_USER')}:{os.getenv('DB_PASS')}@{os.getenv('DB_HOST')}:{os.getenv('DB_PORT')}/{os.getenv('DB_NAME')}?sslmode=require\",\n",
        "    connect_args={\n",
        "        \"sslmode\": \"require\",\n",
        "        \"sslrootcert\": \"/content/ca.pem\"\n",
        "    }\n",
        ")\n"
      ],
      "metadata": {
        "id": "BKR-T1TFgtwl"
      },
      "execution_count": null,
      "outputs": []
    },
    {
      "cell_type": "code",
      "source": [
        "nyc_data=pd.read_sql(\"SELECT * FROM df;\", engine)\n",
        "nyc_data.head(5)"
      ],
      "metadata": {
        "id": "LsT4Mbak92-O"
      },
      "execution_count": null,
      "outputs": []
    },
    {
      "cell_type": "code",
      "source": [
        "nyc_data.info()"
      ],
      "metadata": {
        "id": "Qb7qY-rgCXTx"
      },
      "execution_count": null,
      "outputs": []
    },
    {
      "cell_type": "code",
      "source": [
        "#drop columns that are either entirely or mostly (>90%) missing\n",
        "nyc_data.dropna(axis=1, thresh=(len(nyc_data)*.1), inplace=True)\n",
        "nyc_data.shape"
      ],
      "metadata": {
        "id": "9KCeLwd2CmiU"
      },
      "execution_count": null,
      "outputs": []
    },
    {
      "cell_type": "code",
      "source": [
        "#Make all datetimes, datetime format\n",
        "nyc_data['Created Date'] = pd.to_datetime(nyc_data['Created Date'])\n",
        "nyc_data['Closed Date'] = pd.to_datetime(nyc_data['Closed Date'])\n",
        "nyc_data['Due Date'] = pd.to_datetime(nyc_data['Due Date'])"
      ],
      "metadata": {
        "id": "kg9uqNFPNNsh"
      },
      "execution_count": null,
      "outputs": []
    },
    {
      "cell_type": "code",
      "source": [
        "top_n = 5\n",
        "top_complaints = nyc_data['Complaint Type'].value_counts().nlargest(top_n)\n",
        "print(f\"\\nTop {top_n} Complaint types:\")\n",
        "print(top_complaints)"
      ],
      "metadata": {
        "id": "in-anmd0_18g"
      },
      "execution_count": null,
      "outputs": []
    },
    {
      "cell_type": "code",
      "source": [
        "nyc_data['hrs_to_completion'] = (nyc_data['Closed Date'] - nyc_data['Created Date']).dt.total_seconds() / 3600\n",
        "nyc_data['hrs_to_completion'].describe()"
      ],
      "metadata": {
        "id": "n68jBmxEYfRt"
      },
      "execution_count": null,
      "outputs": []
    },
    {
      "cell_type": "code",
      "source": [
        "#Plot distribution of SR hrs to completion\n",
        "#Max hrs_to_completion=592.8 omitted from figure to more easily visualize distr. of variable\n",
        "\n",
        "nyc_data['hrs_to_completion'].hist(bins=250,range=[0,100])"
      ],
      "metadata": {
        "id": "iUCx2WhPKKG3"
      },
      "execution_count": null,
      "outputs": []
    },
    {
      "cell_type": "code",
      "source": [
        "nyc_data['month']=nyc_data['Created Date'].dt.month\n",
        "nyc_data['year']=nyc_data['Created Date'].dt.year"
      ],
      "metadata": {
        "id": "aHACapLrTAFt"
      },
      "execution_count": null,
      "outputs": []
    },
    {
      "cell_type": "code",
      "source": [
        "grouped_counts = nyc_data.groupby(['month','year','Borough']).size()\n",
        "print(grouped_counts)"
      ],
      "metadata": {
        "id": "VW405lfMhQ7l"
      },
      "execution_count": null,
      "outputs": []
    },
    {
      "cell_type": "code",
      "source": [
        "#remove unspecified rows? Or map them to a Borough using lat/long?\n",
        "#Update: remove. Lat/Long missing for borough='unspecified'\n",
        "filtered_df=nyc_data[nyc_data['Borough']=='Unspecified']\n",
        "filtered_df.shape\n",
        "print(filtered_df.info())\n",
        "\n",
        "nyc_data = nyc_data[nyc_data.Borough != 'Unspecified']\n"
      ],
      "metadata": {
        "id": "nrxvNC588KHj"
      },
      "execution_count": null,
      "outputs": []
    },
    {
      "cell_type": "code",
      "source": [
        "#Daily average number of service requests by borough\n",
        "index = nyc_data.set_index('Created Date')\n",
        "\n",
        "daily_counts = index.groupby('Borough').resample('D').size().unstack(fill_value=0)\n",
        "average_daily_count = daily_counts.mean(axis=1)\n",
        "\n",
        "print(\"\\nAverage daily number of service requests per Borough:\")\n",
        "print(average_daily_count)"
      ],
      "metadata": {
        "id": "fEwF3LKeDB8x"
      },
      "execution_count": null,
      "outputs": []
    },
    {
      "cell_type": "code",
      "source": [
        "#Create figure to check counts of complaint by Borough\n",
        "nyc_data['hour'] = nyc_data['Created Date'].dt.hour\n",
        "hr_counts = nyc_data.groupby(['Borough', 'hour']).size().reset_index(name='hr_count')\n",
        "\n",
        "# Pivot to get borough as columns\n",
        "pivot_df = hr_counts.pivot(index='hour', columns='Borough', values='hr_count').fillna(0)\n",
        "\n",
        "# Set up bar positions\n",
        "x = np.arange(len(pivot_df.index))\n",
        "width = 0.15\n",
        "fig, ax = plt.subplots(figsize=(12,6))\n",
        "\n",
        "\n",
        "for i, borough in enumerate(pivot_df.columns):\n",
        "    ax.bar(x + i*width, pivot_df[borough], width, label=borough)\n",
        "\n",
        "# Plot\n",
        "ax.set_ylabel('Service request count')\n",
        "ax.set_title('Service requests by hour per Borough')\n",
        "ax.set_xticks(x + width * (len(pivot_df.columns)-1) / 2, pivot_df.index)\n",
        "ax.legend(title=\"Borough\")\n",
        "plt.xticks(rotation=0)\n",
        "plt.tight_layout()\n",
        "plt.show()"
      ],
      "metadata": {
        "id": "0SYNEJUuEjj1"
      },
      "execution_count": null,
      "outputs": []
    },
    {
      "cell_type": "code",
      "source": [
        "# Creating boolean weekend variable\n",
        "nyc_data['day_int'] = nyc_data['Created Date'].dt.dayofweek\n",
        "nyc_data['is_weekend'] = nyc_data['day_int'] > 4"
      ],
      "metadata": {
        "id": "b616PaKpB49M"
      },
      "execution_count": null,
      "outputs": []
    },
    {
      "cell_type": "code",
      "source": [
        "#Set up data limited to only top 5 complaints\n",
        "top5_complaints = nyc_data['Complaint Type'].value_counts().nlargest(5).index\n",
        "top5 = nyc_data[nyc_data['Complaint Type'].isin(top5_complaints)]\n",
        "\n",
        "exploratory = (top5.groupby([\"is_weekend\", \"Borough\", \"Complaint Type\"]).size().reset_index(name=\"event_count\"))\n",
        "\n",
        "#Visualize top 5 complaints by Borough and weekend vs. weekday\n",
        "sea.catplot(\n",
        "    data=exploratory,\n",
        "    x=\"is_weekend\",\n",
        "    y=\"event_count\",\n",
        "    hue=\"Complaint Type\",\n",
        "    col=\"Borough\",\n",
        "    kind=\"bar\",\n",
        "    errorbar=None\n",
        ")\n",
        "plt.show()"
      ],
      "metadata": {
        "id": "Z3cLzVKDo-sg"
      },
      "execution_count": null,
      "outputs": []
    },
    {
      "cell_type": "code",
      "source": [
        "descriptive_stats = top5.groupby('Complaint Type')['hrs_to_completion'].describe()\n",
        "print(\"Descriptive statistics for Hourly completion time grouped by Complaint Type:\")\n",
        "print(descriptive_stats)"
      ],
      "metadata": {
        "id": "xgl8Fvji_NlM"
      },
      "execution_count": null,
      "outputs": []
    },
    {
      "cell_type": "code",
      "source": [
        "descriptive_stats1 = top5['hrs_to_completion'].describe()\n",
        "print(\"Descriptive statistics for overall Hourly completion time:\")\n",
        "print(descriptive_stats1)"
      ],
      "metadata": {
        "id": "Jv-lfa3zbJyT"
      },
      "execution_count": null,
      "outputs": []
    },
    {
      "cell_type": "code",
      "source": [
        "#Outcome variable (>5 hrs to completion Y/N)\n",
        "nyc_data['y1'] = nyc_data['hrs_to_completion'].apply(lambda x: 1 if x > 4.999 else 0)\n",
        "\n",
        "print(pd.crosstab(nyc_data['y1'], nyc_data['hrs_to_completion']))"
      ],
      "metadata": {
        "id": "D7dXwaFSbNXw"
      },
      "execution_count": null,
      "outputs": []
    }
  ]
}